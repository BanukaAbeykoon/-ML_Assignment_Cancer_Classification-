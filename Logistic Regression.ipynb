{
 "cells": [
  {
   "cell_type": "markdown",
   "id": "22e02006",
   "metadata": {},
   "source": [
    "# Importing libraries"
   ]
  },
  {
   "cell_type": "code",
   "execution_count": null,
   "id": "77d8052c",
   "metadata": {},
   "outputs": [],
   "source": [
    "import pandas as pd\n",
    "import numpy as np\n",
    "import matplotlib.pyplot as plt\n",
    "import seaborn as sns\n",
    "\n",
    "from sklearn.model_selection import train_test_split\n",
    "from sklearn.preprocessing import LabelEncoder, MinMaxScaler, StandardScaler\n",
    "from sklearn.metrics import accuracy_score, f1_score\n",
    "from sklearn.linear_model import LogisticRegression\n",
    "from scipy.stats import expon, uniform"
   ]
  },
  {
   "cell_type": "markdown",
   "id": "5da612b6",
   "metadata": {},
   "source": [
    "# Import Data"
   ]
  },
  {
   "cell_type": "code",
   "execution_count": null,
   "id": "6dbb40f9",
   "metadata": {},
   "outputs": [],
   "source": [
    "df = pd.read_csv(\"C:/Users/lenovo/Desktop/JPH/Cancer_Data.csv\")\n",
    "df.head(5)"
   ]
  },
  {
   "cell_type": "code",
   "execution_count": null,
   "id": "79af2370",
   "metadata": {},
   "outputs": [],
   "source": [
    "df.shape"
   ]
  },
  {
   "cell_type": "markdown",
   "id": "c3c0fd09",
   "metadata": {},
   "source": [
    "count of rows and columns"
   ]
  },
  {
   "cell_type": "code",
   "execution_count": null,
   "id": "08b340e4",
   "metadata": {},
   "outputs": [],
   "source": [
    "df.columns"
   ]
  },
  {
   "cell_type": "markdown",
   "id": "f7a955d0",
   "metadata": {},
   "source": [
    "# \n",
    "We have 33 columns of data\n",
    "The column \"diagnosis\" it is our target variable"
   ]
  },
  {
   "cell_type": "markdown",
   "id": "2624c11d",
   "metadata": {},
   "source": [
    "Cancer Types:\n",
    "1. Benign cancer (B)\n",
    "2. Malignant cancer (M)"
   ]
  },
  {
   "cell_type": "code",
   "execution_count": null,
   "id": "f1cd9959",
   "metadata": {},
   "outputs": [],
   "source": [
    "plt.figure(figsize= (10, 6))\n",
    "sns.histplot(df['texture_mean'], color = '#0000ff', kde= True);"
   ]
  },
  {
   "cell_type": "markdown",
   "id": "92b18f8c",
   "metadata": {},
   "source": [
    "# Data Cleaning, Correcting, Completing and Converting¶"
   ]
  },
  {
   "cell_type": "markdown",
   "id": "029de132",
   "metadata": {},
   "source": [
    "Null Columns"
   ]
  },
  {
   "cell_type": "code",
   "execution_count": null,
   "id": "81bb262f",
   "metadata": {},
   "outputs": [],
   "source": [
    "print('Train columns with null values:\\n', df.isnull().sum())"
   ]
  },
  {
   "cell_type": "markdown",
   "id": "2222c69a",
   "metadata": {},
   "source": [
    "# \n",
    "We don't have any null values!"
   ]
  },
  {
   "cell_type": "code",
   "execution_count": null,
   "id": "d186c69c",
   "metadata": {},
   "outputs": [],
   "source": [
    "df.info()"
   ]
  },
  {
   "cell_type": "markdown",
   "id": "183a53d0",
   "metadata": {},
   "source": [
    "This function shows\n",
    "\n",
    "1.column name\n",
    "\n",
    "2.non-null values\n",
    "\n",
    "3.count\n",
    "\n",
    "4.Dtype"
   ]
  },
  {
   "cell_type": "code",
   "execution_count": null,
   "id": "fad2f9e0",
   "metadata": {},
   "outputs": [],
   "source": [
    "df['Unnamed: 32']"
   ]
  },
  {
   "cell_type": "markdown",
   "id": "83eb3399",
   "metadata": {},
   "source": [
    "We can see that column 32 represents a column full of NaNs, and it's called \"Unnamed:32\". We will need to delete that later."
   ]
  },
  {
   "cell_type": "markdown",
   "id": "510c5351",
   "metadata": {},
   "source": [
    "Transforming the target column from categorical to numerical"
   ]
  },
  {
   "cell_type": "code",
   "execution_count": null,
   "id": "3c92a554",
   "metadata": {},
   "outputs": [],
   "source": [
    "df['diagnosis'].replace(['B', 'M'],\n",
    "                        [0, 1], inplace=True)"
   ]
  },
  {
   "cell_type": "code",
   "execution_count": null,
   "id": "263b0cf9",
   "metadata": {},
   "outputs": [],
   "source": [
    "df.head()"
   ]
  },
  {
   "cell_type": "code",
   "execution_count": null,
   "id": "0a6733a6",
   "metadata": {},
   "outputs": [],
   "source": [
    "df['diagnosis'].value_counts()"
   ]
  },
  {
   "cell_type": "markdown",
   "id": "2a3d1f71",
   "metadata": {},
   "source": [
    "After transforming Categorical to Numerical, number of rows for each type. We can see that 357 + 212 = 569, so all the data has been replaced."
   ]
  },
  {
   "cell_type": "markdown",
   "id": "8ce09a7a",
   "metadata": {},
   "source": [
    "## Exploratory Data Analysis"
   ]
  },
  {
   "cell_type": "code",
   "execution_count": null,
   "id": "f1c9df38",
   "metadata": {},
   "outputs": [],
   "source": [
    "plt.figure(figsize=(10,6))\n",
    "sns.set_style(\"whitegrid\")\n",
    "plt.pie(df['diagnosis'].value_counts(),autopct='%1.2f%%', startangle=90)\n",
    "plt.axis('equal')\n",
    "plt.title(\"B x M\")\n",
    "plt.show()"
   ]
  },
  {
   "cell_type": "code",
   "execution_count": null,
   "id": "9aed9cce",
   "metadata": {
    "scrolled": true
   },
   "outputs": [],
   "source": [
    "plt.figure(figsize=(12,6))\n",
    "ax = sns.countplot(data=df, x='diagnosis')\n",
    "plt.title('Total B x M cells')\n",
    "#plt.ylim([0,3000])\n",
    "ax.bar_label(ax.containers[0], label_type='edge')\n",
    "plt.show()"
   ]
  },
  {
   "cell_type": "markdown",
   "id": "eaf81eb9",
   "metadata": {},
   "source": [
    "Visualizing the categorical data"
   ]
  },
  {
   "cell_type": "code",
   "execution_count": null,
   "id": "00e872d6",
   "metadata": {},
   "outputs": [],
   "source": [
    "M = df[df.diagnosis == 1] #Diagnosis transfers all values of M to M data\n",
    "B = df[df.diagnosis == 0] #Diagnosis transfers all values of B to B data\n",
    "\n",
    "plt.scatter(M.radius_mean,M.texture_mean, label = \"Malignant\", alpha = 0.3)\n",
    "plt.scatter(B.radius_mean,B.texture_mean,label = \"Benign\", alpha = 0.3)\n",
    "\n",
    "plt.xlabel(\"radius_mean\")\n",
    "plt.ylabel(\"texture_mean\")\n",
    "\n",
    "plt.legend()\n",
    "plt.show()"
   ]
  },
  {
   "cell_type": "markdown",
   "id": "3d7d39e5",
   "metadata": {},
   "source": [
    "scatter plot for texture_mean against radius_mean for cancer types"
   ]
  },
  {
   "cell_type": "code",
   "execution_count": null,
   "id": "26f2708c",
   "metadata": {},
   "outputs": [],
   "source": [
    "df.groupby('diagnosis')[['radius_mean','texture_mean']].mean()"
   ]
  },
  {
   "cell_type": "markdown",
   "id": "501c489d",
   "metadata": {},
   "source": [
    "Malignant cells have a higher radius"
   ]
  },
  {
   "cell_type": "code",
   "execution_count": null,
   "id": "835c72bf",
   "metadata": {},
   "outputs": [],
   "source": [
    "plt.figure(figsize=(20,20))\n",
    "sns.heatmap(df.corr(),cbar=True,annot=True,cmap='Blues')\n",
    "plt.show()"
   ]
  },
  {
   "cell_type": "markdown",
   "id": "7687e2a3",
   "metadata": {},
   "source": [
    "Heat map for the features in the data set"
   ]
  },
  {
   "cell_type": "code",
   "execution_count": null,
   "id": "563f5cd9",
   "metadata": {},
   "outputs": [],
   "source": [
    "sns.histplot(df['radius_mean'], color='#0000ff', kde='true')"
   ]
  },
  {
   "cell_type": "code",
   "execution_count": null,
   "id": "96dc373d",
   "metadata": {
    "scrolled": false
   },
   "outputs": [],
   "source": [
    "df.hist(bins=30, figsize=(20, 15), color = '#0000ff')"
   ]
  },
  {
   "cell_type": "code",
   "execution_count": null,
   "id": "928a58ce",
   "metadata": {},
   "outputs": [],
   "source": [
    "df.corr()"
   ]
  },
  {
   "cell_type": "markdown",
   "id": "f7b7f9cc",
   "metadata": {},
   "source": [
    "describing the data set"
   ]
  },
  {
   "cell_type": "code",
   "execution_count": null,
   "id": "491c6217",
   "metadata": {},
   "outputs": [],
   "source": [
    "df.shape"
   ]
  },
  {
   "cell_type": "markdown",
   "id": "cb971774",
   "metadata": {},
   "source": [
    "Dropping both \"Unnamed: 32\" and \"Id\" columns, to build our model"
   ]
  },
  {
   "cell_type": "code",
   "execution_count": null,
   "id": "12bbbc4b",
   "metadata": {},
   "outputs": [],
   "source": [
    "df = df.drop(labels=\"Unnamed: 32\", axis=1)\n",
    "df = df.drop(labels=\"id\", axis=1)"
   ]
  },
  {
   "cell_type": "code",
   "execution_count": null,
   "id": "7e02686d",
   "metadata": {},
   "outputs": [],
   "source": [
    "df.shape"
   ]
  },
  {
   "cell_type": "markdown",
   "id": "ffc94ef5",
   "metadata": {},
   "source": [
    "After dropping the \"Unnamed: 32\" and \"Id\" columns"
   ]
  },
  {
   "cell_type": "code",
   "execution_count": null,
   "id": "4603c662",
   "metadata": {},
   "outputs": [],
   "source": [
    "df.head()"
   ]
  },
  {
   "cell_type": "code",
   "execution_count": null,
   "id": "69bd0a71",
   "metadata": {},
   "outputs": [],
   "source": [
    "X, y = df.drop('diagnosis', axis=1), df[['diagnosis']]"
   ]
  },
  {
   "cell_type": "markdown",
   "id": "0122659d",
   "metadata": {},
   "source": [
    " separating the input features (X) and the target variable (y) from the original DataFrame"
   ]
  },
  {
   "cell_type": "code",
   "execution_count": null,
   "id": "a522cccb",
   "metadata": {},
   "outputs": [],
   "source": [
    "X_train, X_val, y_train, y_val = train_test_split(X, y, test_size=0.33, random_state=43, stratify=y)"
   ]
  },
  {
   "cell_type": "markdown",
   "id": "8d292a3b",
   "metadata": {},
   "source": [
    "Train test split"
   ]
  },
  {
   "cell_type": "code",
   "execution_count": null,
   "id": "aa6601a4",
   "metadata": {},
   "outputs": [],
   "source": [
    "model_dict = {}"
   ]
  },
  {
   "cell_type": "code",
   "execution_count": null,
   "id": "ccb6c263",
   "metadata": {},
   "outputs": [],
   "source": [
    "# Logistic Regression\n",
    "classifier = LogisticRegression(random_state=42)\n",
    "predictor = classifier.fit(X_train, y_train)\n",
    "y_pred = predictor.predict(X_val)\n",
    "accuracy_log_reg = accuracy_score(y_val, y_pred)\n",
    "model_dict['logistic_regression'] = accuracy_log_reg\n",
    "print(accuracy_log_reg)"
   ]
  },
  {
   "cell_type": "markdown",
   "id": "f8e834d8",
   "metadata": {},
   "source": [
    "Applying the Logistic Regression for the data"
   ]
  },
  {
   "cell_type": "code",
   "execution_count": null,
   "id": "e28c3219",
   "metadata": {},
   "outputs": [],
   "source": [
    "model_dict"
   ]
  },
  {
   "cell_type": "markdown",
   "id": "ec0cf7ec",
   "metadata": {},
   "source": [
    "classifier name and the accuracy"
   ]
  },
  {
   "cell_type": "code",
   "execution_count": null,
   "id": "04481cdd",
   "metadata": {},
   "outputs": [],
   "source": [
    "model_accuracies_df = pd.DataFrame(columns=['Model', 'Accuracy'])\n",
    "model_accuracies_df['Model'] = model_dict.keys()\n",
    "model_accuracies_df['Accuracy'] = model_dict.values()"
   ]
  },
  {
   "cell_type": "markdown",
   "id": "6db1ccae",
   "metadata": {},
   "source": [
    "Getting the Model and Accuracy values to model_accuracies_df"
   ]
  },
  {
   "cell_type": "code",
   "execution_count": null,
   "id": "3047ac08",
   "metadata": {},
   "outputs": [],
   "source": [
    "model_accuracies_df"
   ]
  },
  {
   "cell_type": "code",
   "execution_count": null,
   "id": "325cf8e4",
   "metadata": {},
   "outputs": [],
   "source": [
    "model_accuracies_df.sort_values(by = \"Accuracy\", ascending=False)"
   ]
  },
  {
   "cell_type": "code",
   "execution_count": null,
   "id": "797d9f1f",
   "metadata": {},
   "outputs": [],
   "source": [
    "# Create a bar plot of the model accuracies\n",
    "plt.figure(figsize=(6, 4))\n",
    "plt.bar(model_dict.keys(), model_dict.values(), width=0.0000002)\n",
    "plt.title('Model Accuracies')\n",
    "plt.xlabel('Model')\n",
    "plt.ylabel('Accuracy')\n",
    "plt.ylim((0.0, 1.5))\n",
    "plt.xticks(rotation=45, ha='right')\n",
    "for i, v in enumerate(model_dict.values()):\n",
    "    plt.text(i, v, str(round(v, 3)), ha='center')\n",
    "plt.show()\n"
   ]
  },
  {
   "cell_type": "code",
   "execution_count": null,
   "id": "7e26a9d2",
   "metadata": {},
   "outputs": [],
   "source": []
  }
 ],
 "metadata": {
  "kernelspec": {
   "display_name": "Python 3 (ipykernel)",
   "language": "python",
   "name": "python3"
  },
  "language_info": {
   "codemirror_mode": {
    "name": "ipython",
    "version": 3
   },
   "file_extension": ".py",
   "mimetype": "text/x-python",
   "name": "python",
   "nbconvert_exporter": "python",
   "pygments_lexer": "ipython3",
   "version": "3.9.13"
  }
 },
 "nbformat": 4,
 "nbformat_minor": 5
}
